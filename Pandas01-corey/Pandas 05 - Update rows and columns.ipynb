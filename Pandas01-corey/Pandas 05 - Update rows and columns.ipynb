{
 "cells": [
  {
   "cell_type": "markdown",
   "metadata": {},
   "source": [
    "# Pandas 05 - Update rows and columns.\n",
    "Actualizar filas y columnas de un DataFrame."
   ]
  },
  {
   "cell_type": "code",
   "execution_count": 1,
   "metadata": {},
   "outputs": [],
   "source": [
    "import pandas as pd"
   ]
  },
  {
   "cell_type": "code",
   "execution_count": 2,
   "metadata": {},
   "outputs": [
    {
     "data": {
      "text/html": [
       "<div>\n",
       "<style scoped>\n",
       "    .dataframe tbody tr th:only-of-type {\n",
       "        vertical-align: middle;\n",
       "    }\n",
       "\n",
       "    .dataframe tbody tr th {\n",
       "        vertical-align: top;\n",
       "    }\n",
       "\n",
       "    .dataframe thead th {\n",
       "        text-align: right;\n",
       "    }\n",
       "</style>\n",
       "<table border=\"1\" class=\"dataframe\">\n",
       "  <thead>\n",
       "    <tr style=\"text-align: right;\">\n",
       "      <th></th>\n",
       "      <th>Name</th>\n",
       "      <th>Last</th>\n",
       "      <th>Age</th>\n",
       "      <th>Email</th>\n",
       "    </tr>\n",
       "  </thead>\n",
       "  <tbody>\n",
       "    <tr>\n",
       "      <th>0</th>\n",
       "      <td>Xavier</td>\n",
       "      <td>Zisu</td>\n",
       "      <td>29</td>\n",
       "      <td>xazi@root.net</td>\n",
       "    </tr>\n",
       "    <tr>\n",
       "      <th>1</th>\n",
       "      <td>Maria</td>\n",
       "      <td>Dow</td>\n",
       "      <td>7</td>\n",
       "      <td>madow@edu.gob</td>\n",
       "    </tr>\n",
       "    <tr>\n",
       "      <th>2</th>\n",
       "      <td>Ze</td>\n",
       "      <td>Pequeño</td>\n",
       "      <td>39</td>\n",
       "      <td>zepe@mv.br</td>\n",
       "    </tr>\n",
       "    <tr>\n",
       "      <th>3</th>\n",
       "      <td>Buscape</td>\n",
       "      <td>Doas</td>\n",
       "      <td>25</td>\n",
       "      <td>pics@journal.net</td>\n",
       "    </tr>\n",
       "  </tbody>\n",
       "</table>\n",
       "</div>"
      ],
      "text/plain": [
       "      Name     Last  Age             Email\n",
       "0   Xavier     Zisu   29     xazi@root.net\n",
       "1    Maria      Dow    7     madow@edu.gob\n",
       "2       Ze  Pequeño   39        zepe@mv.br\n",
       "3  Buscape     Doas   25  pics@journal.net"
      ]
     },
     "execution_count": 2,
     "metadata": {},
     "output_type": "execute_result"
    }
   ],
   "source": [
    "persons = {\n",
    "    'Name': ['Xavier', 'Maria', 'Ze', 'Buscape'],\n",
    "    'Last': ['Zisu', 'Dow', 'Pequeño', 'Doas'],\n",
    "    'Age': [29, 7, 39, 25],\n",
    "    'Email': ['xazi@root.net','madow@edu.gob','zepe@mv.br','pics@journal.net']\n",
    "}\n",
    "df = pd.DataFrame(persons)\n",
    "df"
   ]
  },
  {
   "cell_type": "code",
   "execution_count": 3,
   "metadata": {},
   "outputs": [],
   "source": [
    "# cambiar los encabezados a mayusculas\n",
    "df.columns = [n.upper() for n in df.columns]"
   ]
  },
  {
   "cell_type": "code",
   "execution_count": 4,
   "metadata": {},
   "outputs": [
    {
     "data": {
      "text/html": [
       "<div>\n",
       "<style scoped>\n",
       "    .dataframe tbody tr th:only-of-type {\n",
       "        vertical-align: middle;\n",
       "    }\n",
       "\n",
       "    .dataframe tbody tr th {\n",
       "        vertical-align: top;\n",
       "    }\n",
       "\n",
       "    .dataframe thead th {\n",
       "        text-align: right;\n",
       "    }\n",
       "</style>\n",
       "<table border=\"1\" class=\"dataframe\">\n",
       "  <thead>\n",
       "    <tr style=\"text-align: right;\">\n",
       "      <th></th>\n",
       "      <th>NAME</th>\n",
       "      <th>LAST</th>\n",
       "      <th>AGE</th>\n",
       "      <th>EMAIL</th>\n",
       "    </tr>\n",
       "  </thead>\n",
       "  <tbody>\n",
       "    <tr>\n",
       "      <th>0</th>\n",
       "      <td>Xavier</td>\n",
       "      <td>Zisu</td>\n",
       "      <td>29</td>\n",
       "      <td>xazi@root.net</td>\n",
       "    </tr>\n",
       "    <tr>\n",
       "      <th>1</th>\n",
       "      <td>Maria</td>\n",
       "      <td>Dow</td>\n",
       "      <td>7</td>\n",
       "      <td>madow@edu.gob</td>\n",
       "    </tr>\n",
       "    <tr>\n",
       "      <th>2</th>\n",
       "      <td>Ze</td>\n",
       "      <td>Pequeño</td>\n",
       "      <td>39</td>\n",
       "      <td>zepe@mv.br</td>\n",
       "    </tr>\n",
       "    <tr>\n",
       "      <th>3</th>\n",
       "      <td>Buscape</td>\n",
       "      <td>Doas</td>\n",
       "      <td>25</td>\n",
       "      <td>pics@journal.net</td>\n",
       "    </tr>\n",
       "  </tbody>\n",
       "</table>\n",
       "</div>"
      ],
      "text/plain": [
       "      NAME     LAST  AGE             EMAIL\n",
       "0   Xavier     Zisu   29     xazi@root.net\n",
       "1    Maria      Dow    7     madow@edu.gob\n",
       "2       Ze  Pequeño   39        zepe@mv.br\n",
       "3  Buscape     Doas   25  pics@journal.net"
      ]
     },
     "execution_count": 4,
     "metadata": {},
     "output_type": "execute_result"
    }
   ],
   "source": [
    "df"
   ]
  },
  {
   "cell_type": "markdown",
   "metadata": {},
   "source": [
    "Se puede utilizar los metodos upper(), lower(), title()"
   ]
  },
  {
   "cell_type": "code",
   "execution_count": 5,
   "metadata": {},
   "outputs": [],
   "source": [
    "# cambiar las N por ' ' de las colummas\n",
    "df.columns = df.columns.str.replace('N', ' ')"
   ]
  },
  {
   "cell_type": "code",
   "execution_count": 6,
   "metadata": {},
   "outputs": [
    {
     "data": {
      "text/html": [
       "<div>\n",
       "<style scoped>\n",
       "    .dataframe tbody tr th:only-of-type {\n",
       "        vertical-align: middle;\n",
       "    }\n",
       "\n",
       "    .dataframe tbody tr th {\n",
       "        vertical-align: top;\n",
       "    }\n",
       "\n",
       "    .dataframe thead th {\n",
       "        text-align: right;\n",
       "    }\n",
       "</style>\n",
       "<table border=\"1\" class=\"dataframe\">\n",
       "  <thead>\n",
       "    <tr style=\"text-align: right;\">\n",
       "      <th></th>\n",
       "      <th>AME</th>\n",
       "      <th>LAST</th>\n",
       "      <th>AGE</th>\n",
       "      <th>EMAIL</th>\n",
       "    </tr>\n",
       "  </thead>\n",
       "  <tbody>\n",
       "    <tr>\n",
       "      <th>0</th>\n",
       "      <td>Xavier</td>\n",
       "      <td>Zisu</td>\n",
       "      <td>29</td>\n",
       "      <td>xazi@root.net</td>\n",
       "    </tr>\n",
       "    <tr>\n",
       "      <th>1</th>\n",
       "      <td>Maria</td>\n",
       "      <td>Dow</td>\n",
       "      <td>7</td>\n",
       "      <td>madow@edu.gob</td>\n",
       "    </tr>\n",
       "    <tr>\n",
       "      <th>2</th>\n",
       "      <td>Ze</td>\n",
       "      <td>Pequeño</td>\n",
       "      <td>39</td>\n",
       "      <td>zepe@mv.br</td>\n",
       "    </tr>\n",
       "    <tr>\n",
       "      <th>3</th>\n",
       "      <td>Buscape</td>\n",
       "      <td>Doas</td>\n",
       "      <td>25</td>\n",
       "      <td>pics@journal.net</td>\n",
       "    </tr>\n",
       "  </tbody>\n",
       "</table>\n",
       "</div>"
      ],
      "text/plain": [
       "       AME     LAST  AGE             EMAIL\n",
       "0   Xavier     Zisu   29     xazi@root.net\n",
       "1    Maria      Dow    7     madow@edu.gob\n",
       "2       Ze  Pequeño   39        zepe@mv.br\n",
       "3  Buscape     Doas   25  pics@journal.net"
      ]
     },
     "execution_count": 6,
     "metadata": {},
     "output_type": "execute_result"
    }
   ],
   "source": [
    "df"
   ]
  },
  {
   "cell_type": "code",
   "execution_count": 7,
   "metadata": {},
   "outputs": [
    {
     "data": {
      "text/html": [
       "<div>\n",
       "<style scoped>\n",
       "    .dataframe tbody tr th:only-of-type {\n",
       "        vertical-align: middle;\n",
       "    }\n",
       "\n",
       "    .dataframe tbody tr th {\n",
       "        vertical-align: top;\n",
       "    }\n",
       "\n",
       "    .dataframe thead th {\n",
       "        text-align: right;\n",
       "    }\n",
       "</style>\n",
       "<table border=\"1\" class=\"dataframe\">\n",
       "  <thead>\n",
       "    <tr style=\"text-align: right;\">\n",
       "      <th></th>\n",
       "      <th>Name</th>\n",
       "      <th>Last</th>\n",
       "      <th>Age</th>\n",
       "      <th>Email</th>\n",
       "    </tr>\n",
       "  </thead>\n",
       "  <tbody>\n",
       "    <tr>\n",
       "      <th>0</th>\n",
       "      <td>Xavier</td>\n",
       "      <td>Zisu</td>\n",
       "      <td>29</td>\n",
       "      <td>xazi@root.net</td>\n",
       "    </tr>\n",
       "    <tr>\n",
       "      <th>1</th>\n",
       "      <td>Maria</td>\n",
       "      <td>Dow</td>\n",
       "      <td>7</td>\n",
       "      <td>madow@edu.gob</td>\n",
       "    </tr>\n",
       "    <tr>\n",
       "      <th>2</th>\n",
       "      <td>Ze</td>\n",
       "      <td>Pequeño</td>\n",
       "      <td>39</td>\n",
       "      <td>zepe@mv.br</td>\n",
       "    </tr>\n",
       "    <tr>\n",
       "      <th>3</th>\n",
       "      <td>Buscape</td>\n",
       "      <td>Doas</td>\n",
       "      <td>25</td>\n",
       "      <td>pics@journal.net</td>\n",
       "    </tr>\n",
       "  </tbody>\n",
       "</table>\n",
       "</div>"
      ],
      "text/plain": [
       "      Name     Last  Age             Email\n",
       "0   Xavier     Zisu   29     xazi@root.net\n",
       "1    Maria      Dow    7     madow@edu.gob\n",
       "2       Ze  Pequeño   39        zepe@mv.br\n",
       "3  Buscape     Doas   25  pics@journal.net"
      ]
     },
     "execution_count": 7,
     "metadata": {},
     "output_type": "execute_result"
    }
   ],
   "source": [
    "df = pd.DataFrame(persons)\n",
    "df"
   ]
  },
  {
   "cell_type": "code",
   "execution_count": 8,
   "metadata": {},
   "outputs": [],
   "source": [
    "# renombrar columnas del DataFrame\n",
    "df.rename(columns={'Name':'Nombre','Last':'Apl','Age':'Edad','Email':'Correo'}, inplace=True)"
   ]
  },
  {
   "cell_type": "code",
   "execution_count": 9,
   "metadata": {},
   "outputs": [
    {
     "data": {
      "text/html": [
       "<div>\n",
       "<style scoped>\n",
       "    .dataframe tbody tr th:only-of-type {\n",
       "        vertical-align: middle;\n",
       "    }\n",
       "\n",
       "    .dataframe tbody tr th {\n",
       "        vertical-align: top;\n",
       "    }\n",
       "\n",
       "    .dataframe thead th {\n",
       "        text-align: right;\n",
       "    }\n",
       "</style>\n",
       "<table border=\"1\" class=\"dataframe\">\n",
       "  <thead>\n",
       "    <tr style=\"text-align: right;\">\n",
       "      <th></th>\n",
       "      <th>Nombre</th>\n",
       "      <th>Apl</th>\n",
       "      <th>Edad</th>\n",
       "      <th>Correo</th>\n",
       "    </tr>\n",
       "  </thead>\n",
       "  <tbody>\n",
       "    <tr>\n",
       "      <th>0</th>\n",
       "      <td>Xavier</td>\n",
       "      <td>Zisu</td>\n",
       "      <td>29</td>\n",
       "      <td>xazi@root.net</td>\n",
       "    </tr>\n",
       "    <tr>\n",
       "      <th>1</th>\n",
       "      <td>Maria</td>\n",
       "      <td>Dow</td>\n",
       "      <td>7</td>\n",
       "      <td>madow@edu.gob</td>\n",
       "    </tr>\n",
       "    <tr>\n",
       "      <th>2</th>\n",
       "      <td>Ze</td>\n",
       "      <td>Pequeño</td>\n",
       "      <td>39</td>\n",
       "      <td>zepe@mv.br</td>\n",
       "    </tr>\n",
       "    <tr>\n",
       "      <th>3</th>\n",
       "      <td>Buscape</td>\n",
       "      <td>Doas</td>\n",
       "      <td>25</td>\n",
       "      <td>pics@journal.net</td>\n",
       "    </tr>\n",
       "  </tbody>\n",
       "</table>\n",
       "</div>"
      ],
      "text/plain": [
       "    Nombre      Apl  Edad            Correo\n",
       "0   Xavier     Zisu    29     xazi@root.net\n",
       "1    Maria      Dow     7     madow@edu.gob\n",
       "2       Ze  Pequeño    39        zepe@mv.br\n",
       "3  Buscape     Doas    25  pics@journal.net"
      ]
     },
     "execution_count": 9,
     "metadata": {},
     "output_type": "execute_result"
    }
   ],
   "source": [
    "df"
   ]
  },
  {
   "cell_type": "code",
   "execution_count": 10,
   "metadata": {},
   "outputs": [],
   "source": [
    "# cambiar los valores de una fila\n",
    "df.loc[3] = ['Zinedine','Zidane', 50, 'zisu@france.fr']"
   ]
  },
  {
   "cell_type": "code",
   "execution_count": 11,
   "metadata": {},
   "outputs": [
    {
     "data": {
      "text/html": [
       "<div>\n",
       "<style scoped>\n",
       "    .dataframe tbody tr th:only-of-type {\n",
       "        vertical-align: middle;\n",
       "    }\n",
       "\n",
       "    .dataframe tbody tr th {\n",
       "        vertical-align: top;\n",
       "    }\n",
       "\n",
       "    .dataframe thead th {\n",
       "        text-align: right;\n",
       "    }\n",
       "</style>\n",
       "<table border=\"1\" class=\"dataframe\">\n",
       "  <thead>\n",
       "    <tr style=\"text-align: right;\">\n",
       "      <th></th>\n",
       "      <th>Nombre</th>\n",
       "      <th>Apl</th>\n",
       "      <th>Edad</th>\n",
       "      <th>Correo</th>\n",
       "    </tr>\n",
       "  </thead>\n",
       "  <tbody>\n",
       "    <tr>\n",
       "      <th>0</th>\n",
       "      <td>Xavier</td>\n",
       "      <td>Zisu</td>\n",
       "      <td>29</td>\n",
       "      <td>xazi@root.net</td>\n",
       "    </tr>\n",
       "    <tr>\n",
       "      <th>1</th>\n",
       "      <td>Maria</td>\n",
       "      <td>Dow</td>\n",
       "      <td>7</td>\n",
       "      <td>madow@edu.gob</td>\n",
       "    </tr>\n",
       "    <tr>\n",
       "      <th>2</th>\n",
       "      <td>Ze</td>\n",
       "      <td>Pequeño</td>\n",
       "      <td>39</td>\n",
       "      <td>zepe@mv.br</td>\n",
       "    </tr>\n",
       "    <tr>\n",
       "      <th>3</th>\n",
       "      <td>Zinedine</td>\n",
       "      <td>Zidane</td>\n",
       "      <td>50</td>\n",
       "      <td>zisu@france.fr</td>\n",
       "    </tr>\n",
       "  </tbody>\n",
       "</table>\n",
       "</div>"
      ],
      "text/plain": [
       "     Nombre      Apl  Edad          Correo\n",
       "0    Xavier     Zisu    29   xazi@root.net\n",
       "1     Maria      Dow     7   madow@edu.gob\n",
       "2        Ze  Pequeño    39      zepe@mv.br\n",
       "3  Zinedine   Zidane    50  zisu@france.fr"
      ]
     },
     "execution_count": 11,
     "metadata": {},
     "output_type": "execute_result"
    }
   ],
   "source": [
    "df"
   ]
  },
  {
   "cell_type": "code",
   "execution_count": 12,
   "metadata": {},
   "outputs": [],
   "source": [
    "# actualizar solo determinadas columnas de un registro\n",
    "df.loc[[3], ['Nombre','Apl']] = ['Carol', 'Doe']"
   ]
  },
  {
   "cell_type": "code",
   "execution_count": 13,
   "metadata": {},
   "outputs": [
    {
     "data": {
      "text/html": [
       "<div>\n",
       "<style scoped>\n",
       "    .dataframe tbody tr th:only-of-type {\n",
       "        vertical-align: middle;\n",
       "    }\n",
       "\n",
       "    .dataframe tbody tr th {\n",
       "        vertical-align: top;\n",
       "    }\n",
       "\n",
       "    .dataframe thead th {\n",
       "        text-align: right;\n",
       "    }\n",
       "</style>\n",
       "<table border=\"1\" class=\"dataframe\">\n",
       "  <thead>\n",
       "    <tr style=\"text-align: right;\">\n",
       "      <th></th>\n",
       "      <th>Nombre</th>\n",
       "      <th>Apl</th>\n",
       "      <th>Edad</th>\n",
       "      <th>Correo</th>\n",
       "    </tr>\n",
       "  </thead>\n",
       "  <tbody>\n",
       "    <tr>\n",
       "      <th>0</th>\n",
       "      <td>Xavier</td>\n",
       "      <td>Zisu</td>\n",
       "      <td>29</td>\n",
       "      <td>xazi@root.net</td>\n",
       "    </tr>\n",
       "    <tr>\n",
       "      <th>1</th>\n",
       "      <td>Maria</td>\n",
       "      <td>Dow</td>\n",
       "      <td>7</td>\n",
       "      <td>madow@edu.gob</td>\n",
       "    </tr>\n",
       "    <tr>\n",
       "      <th>2</th>\n",
       "      <td>Ze</td>\n",
       "      <td>Pequeño</td>\n",
       "      <td>39</td>\n",
       "      <td>zepe@mv.br</td>\n",
       "    </tr>\n",
       "    <tr>\n",
       "      <th>3</th>\n",
       "      <td>Carol</td>\n",
       "      <td>Doe</td>\n",
       "      <td>50</td>\n",
       "      <td>zisu@france.fr</td>\n",
       "    </tr>\n",
       "  </tbody>\n",
       "</table>\n",
       "</div>"
      ],
      "text/plain": [
       "   Nombre      Apl  Edad          Correo\n",
       "0  Xavier     Zisu    29   xazi@root.net\n",
       "1   Maria      Dow     7   madow@edu.gob\n",
       "2      Ze  Pequeño    39      zepe@mv.br\n",
       "3   Carol      Doe    50  zisu@france.fr"
      ]
     },
     "execution_count": 13,
     "metadata": {},
     "output_type": "execute_result"
    }
   ],
   "source": [
    "df"
   ]
  },
  {
   "cell_type": "code",
   "execution_count": 14,
   "metadata": {},
   "outputs": [],
   "source": [
    "# pasar todo a upper en determinada fila usando una funcion\n",
    "def up_mail(Correo):\n",
    "    return Correo.upper()"
   ]
  },
  {
   "cell_type": "code",
   "execution_count": 15,
   "metadata": {},
   "outputs": [],
   "source": [
    "df.Correo = df.Correo.apply(up_mail)"
   ]
  },
  {
   "cell_type": "code",
   "execution_count": 16,
   "metadata": {},
   "outputs": [
    {
     "data": {
      "text/html": [
       "<div>\n",
       "<style scoped>\n",
       "    .dataframe tbody tr th:only-of-type {\n",
       "        vertical-align: middle;\n",
       "    }\n",
       "\n",
       "    .dataframe tbody tr th {\n",
       "        vertical-align: top;\n",
       "    }\n",
       "\n",
       "    .dataframe thead th {\n",
       "        text-align: right;\n",
       "    }\n",
       "</style>\n",
       "<table border=\"1\" class=\"dataframe\">\n",
       "  <thead>\n",
       "    <tr style=\"text-align: right;\">\n",
       "      <th></th>\n",
       "      <th>Nombre</th>\n",
       "      <th>Apl</th>\n",
       "      <th>Edad</th>\n",
       "      <th>Correo</th>\n",
       "    </tr>\n",
       "  </thead>\n",
       "  <tbody>\n",
       "    <tr>\n",
       "      <th>0</th>\n",
       "      <td>Xavier</td>\n",
       "      <td>Zisu</td>\n",
       "      <td>29</td>\n",
       "      <td>XAZI@ROOT.NET</td>\n",
       "    </tr>\n",
       "    <tr>\n",
       "      <th>1</th>\n",
       "      <td>Maria</td>\n",
       "      <td>Dow</td>\n",
       "      <td>7</td>\n",
       "      <td>MADOW@EDU.GOB</td>\n",
       "    </tr>\n",
       "    <tr>\n",
       "      <th>2</th>\n",
       "      <td>Ze</td>\n",
       "      <td>Pequeño</td>\n",
       "      <td>39</td>\n",
       "      <td>ZEPE@MV.BR</td>\n",
       "    </tr>\n",
       "    <tr>\n",
       "      <th>3</th>\n",
       "      <td>Carol</td>\n",
       "      <td>Doe</td>\n",
       "      <td>50</td>\n",
       "      <td>ZISU@FRANCE.FR</td>\n",
       "    </tr>\n",
       "  </tbody>\n",
       "</table>\n",
       "</div>"
      ],
      "text/plain": [
       "   Nombre      Apl  Edad          Correo\n",
       "0  Xavier     Zisu    29   XAZI@ROOT.NET\n",
       "1   Maria      Dow     7   MADOW@EDU.GOB\n",
       "2      Ze  Pequeño    39      ZEPE@MV.BR\n",
       "3   Carol      Doe    50  ZISU@FRANCE.FR"
      ]
     },
     "execution_count": 16,
     "metadata": {},
     "output_type": "execute_result"
    }
   ],
   "source": [
    "df"
   ]
  },
  {
   "cell_type": "markdown",
   "metadata": {},
   "source": [
    "df.applymap(ste.lower) aplica el cambio a todas las columnas, no funciona en enteros."
   ]
  },
  {
   "cell_type": "code",
   "execution_count": 17,
   "metadata": {},
   "outputs": [],
   "source": [
    "# aplicar el upper solo a determinadas columnas y todas sus filas\n",
    "df.loc[:, 'Apl'] = df.loc[:, ['Apl']].applymap(str.upper)"
   ]
  },
  {
   "cell_type": "code",
   "execution_count": 18,
   "metadata": {},
   "outputs": [
    {
     "data": {
      "text/html": [
       "<div>\n",
       "<style scoped>\n",
       "    .dataframe tbody tr th:only-of-type {\n",
       "        vertical-align: middle;\n",
       "    }\n",
       "\n",
       "    .dataframe tbody tr th {\n",
       "        vertical-align: top;\n",
       "    }\n",
       "\n",
       "    .dataframe thead th {\n",
       "        text-align: right;\n",
       "    }\n",
       "</style>\n",
       "<table border=\"1\" class=\"dataframe\">\n",
       "  <thead>\n",
       "    <tr style=\"text-align: right;\">\n",
       "      <th></th>\n",
       "      <th>Nombre</th>\n",
       "      <th>Apl</th>\n",
       "      <th>Edad</th>\n",
       "      <th>Correo</th>\n",
       "    </tr>\n",
       "  </thead>\n",
       "  <tbody>\n",
       "    <tr>\n",
       "      <th>0</th>\n",
       "      <td>Xavier</td>\n",
       "      <td>ZISU</td>\n",
       "      <td>29</td>\n",
       "      <td>XAZI@ROOT.NET</td>\n",
       "    </tr>\n",
       "    <tr>\n",
       "      <th>1</th>\n",
       "      <td>Maria</td>\n",
       "      <td>DOW</td>\n",
       "      <td>7</td>\n",
       "      <td>MADOW@EDU.GOB</td>\n",
       "    </tr>\n",
       "    <tr>\n",
       "      <th>2</th>\n",
       "      <td>Ze</td>\n",
       "      <td>PEQUEÑO</td>\n",
       "      <td>39</td>\n",
       "      <td>ZEPE@MV.BR</td>\n",
       "    </tr>\n",
       "    <tr>\n",
       "      <th>3</th>\n",
       "      <td>Carol</td>\n",
       "      <td>DOE</td>\n",
       "      <td>50</td>\n",
       "      <td>ZISU@FRANCE.FR</td>\n",
       "    </tr>\n",
       "  </tbody>\n",
       "</table>\n",
       "</div>"
      ],
      "text/plain": [
       "   Nombre      Apl  Edad          Correo\n",
       "0  Xavier     ZISU    29   XAZI@ROOT.NET\n",
       "1   Maria      DOW     7   MADOW@EDU.GOB\n",
       "2      Ze  PEQUEÑO    39      ZEPE@MV.BR\n",
       "3   Carol      DOE    50  ZISU@FRANCE.FR"
      ]
     },
     "execution_count": 18,
     "metadata": {},
     "output_type": "execute_result"
    }
   ],
   "source": [
    "df"
   ]
  },
  {
   "cell_type": "code",
   "execution_count": 19,
   "metadata": {},
   "outputs": [],
   "source": [
    "# aplicar lower a determinadas columnas\n",
    "df.iloc[:, [0,1]] = df.iloc[:, [0,1]].applymap(str.lower)"
   ]
  },
  {
   "cell_type": "code",
   "execution_count": 20,
   "metadata": {},
   "outputs": [
    {
     "data": {
      "text/html": [
       "<div>\n",
       "<style scoped>\n",
       "    .dataframe tbody tr th:only-of-type {\n",
       "        vertical-align: middle;\n",
       "    }\n",
       "\n",
       "    .dataframe tbody tr th {\n",
       "        vertical-align: top;\n",
       "    }\n",
       "\n",
       "    .dataframe thead th {\n",
       "        text-align: right;\n",
       "    }\n",
       "</style>\n",
       "<table border=\"1\" class=\"dataframe\">\n",
       "  <thead>\n",
       "    <tr style=\"text-align: right;\">\n",
       "      <th></th>\n",
       "      <th>Nombre</th>\n",
       "      <th>Apl</th>\n",
       "      <th>Edad</th>\n",
       "      <th>Correo</th>\n",
       "    </tr>\n",
       "  </thead>\n",
       "  <tbody>\n",
       "    <tr>\n",
       "      <th>0</th>\n",
       "      <td>xavier</td>\n",
       "      <td>zisu</td>\n",
       "      <td>29</td>\n",
       "      <td>XAZI@ROOT.NET</td>\n",
       "    </tr>\n",
       "    <tr>\n",
       "      <th>1</th>\n",
       "      <td>maria</td>\n",
       "      <td>dow</td>\n",
       "      <td>7</td>\n",
       "      <td>MADOW@EDU.GOB</td>\n",
       "    </tr>\n",
       "    <tr>\n",
       "      <th>2</th>\n",
       "      <td>ze</td>\n",
       "      <td>pequeño</td>\n",
       "      <td>39</td>\n",
       "      <td>ZEPE@MV.BR</td>\n",
       "    </tr>\n",
       "    <tr>\n",
       "      <th>3</th>\n",
       "      <td>carol</td>\n",
       "      <td>doe</td>\n",
       "      <td>50</td>\n",
       "      <td>ZISU@FRANCE.FR</td>\n",
       "    </tr>\n",
       "  </tbody>\n",
       "</table>\n",
       "</div>"
      ],
      "text/plain": [
       "   Nombre      Apl  Edad          Correo\n",
       "0  xavier     zisu    29   XAZI@ROOT.NET\n",
       "1   maria      dow     7   MADOW@EDU.GOB\n",
       "2      ze  pequeño    39      ZEPE@MV.BR\n",
       "3   carol      doe    50  ZISU@FRANCE.FR"
      ]
     },
     "execution_count": 20,
     "metadata": {},
     "output_type": "execute_result"
    }
   ],
   "source": [
    "df"
   ]
  },
  {
   "cell_type": "code",
   "execution_count": 21,
   "metadata": {},
   "outputs": [],
   "source": [
    "# restaurar todos los registros a lower\n",
    "df.iloc[:, [0,1,3]] = df.iloc[:, [0,1,3]].applymap(str.lower)"
   ]
  },
  {
   "cell_type": "code",
   "execution_count": 22,
   "metadata": {},
   "outputs": [
    {
     "data": {
      "text/html": [
       "<div>\n",
       "<style scoped>\n",
       "    .dataframe tbody tr th:only-of-type {\n",
       "        vertical-align: middle;\n",
       "    }\n",
       "\n",
       "    .dataframe tbody tr th {\n",
       "        vertical-align: top;\n",
       "    }\n",
       "\n",
       "    .dataframe thead th {\n",
       "        text-align: right;\n",
       "    }\n",
       "</style>\n",
       "<table border=\"1\" class=\"dataframe\">\n",
       "  <thead>\n",
       "    <tr style=\"text-align: right;\">\n",
       "      <th></th>\n",
       "      <th>Nombre</th>\n",
       "      <th>Apl</th>\n",
       "      <th>Edad</th>\n",
       "      <th>Correo</th>\n",
       "    </tr>\n",
       "  </thead>\n",
       "  <tbody>\n",
       "    <tr>\n",
       "      <th>0</th>\n",
       "      <td>xavier</td>\n",
       "      <td>zisu</td>\n",
       "      <td>29</td>\n",
       "      <td>xazi@root.net</td>\n",
       "    </tr>\n",
       "    <tr>\n",
       "      <th>1</th>\n",
       "      <td>maria</td>\n",
       "      <td>dow</td>\n",
       "      <td>7</td>\n",
       "      <td>madow@edu.gob</td>\n",
       "    </tr>\n",
       "    <tr>\n",
       "      <th>2</th>\n",
       "      <td>ze</td>\n",
       "      <td>pequeño</td>\n",
       "      <td>39</td>\n",
       "      <td>zepe@mv.br</td>\n",
       "    </tr>\n",
       "    <tr>\n",
       "      <th>3</th>\n",
       "      <td>carol</td>\n",
       "      <td>doe</td>\n",
       "      <td>50</td>\n",
       "      <td>zisu@france.fr</td>\n",
       "    </tr>\n",
       "  </tbody>\n",
       "</table>\n",
       "</div>"
      ],
      "text/plain": [
       "   Nombre      Apl  Edad          Correo\n",
       "0  xavier     zisu    29   xazi@root.net\n",
       "1   maria      dow     7   madow@edu.gob\n",
       "2      ze  pequeño    39      zepe@mv.br\n",
       "3   carol      doe    50  zisu@france.fr"
      ]
     },
     "execution_count": 22,
     "metadata": {},
     "output_type": "execute_result"
    }
   ],
   "source": [
    "df"
   ]
  },
  {
   "cell_type": "markdown",
   "metadata": {},
   "source": [
    "muestra el largo de todos los elementos del DataFrame\n",
    "df.applymap(len)"
   ]
  },
  {
   "cell_type": "code",
   "execution_count": 23,
   "metadata": {},
   "outputs": [],
   "source": [
    "# cambiar los elementos de la columna, si el registro a cambiar no existe, lo ingora\n",
    "df['Nombre'] = df['Nombre'].replace({'maria': 'mario', 'juan': 'diana'})"
   ]
  },
  {
   "cell_type": "code",
   "execution_count": 24,
   "metadata": {},
   "outputs": [
    {
     "data": {
      "text/html": [
       "<div>\n",
       "<style scoped>\n",
       "    .dataframe tbody tr th:only-of-type {\n",
       "        vertical-align: middle;\n",
       "    }\n",
       "\n",
       "    .dataframe tbody tr th {\n",
       "        vertical-align: top;\n",
       "    }\n",
       "\n",
       "    .dataframe thead th {\n",
       "        text-align: right;\n",
       "    }\n",
       "</style>\n",
       "<table border=\"1\" class=\"dataframe\">\n",
       "  <thead>\n",
       "    <tr style=\"text-align: right;\">\n",
       "      <th></th>\n",
       "      <th>Nombre</th>\n",
       "      <th>Apl</th>\n",
       "      <th>Edad</th>\n",
       "      <th>Correo</th>\n",
       "    </tr>\n",
       "  </thead>\n",
       "  <tbody>\n",
       "    <tr>\n",
       "      <th>0</th>\n",
       "      <td>xavier</td>\n",
       "      <td>zisu</td>\n",
       "      <td>29</td>\n",
       "      <td>xazi@root.net</td>\n",
       "    </tr>\n",
       "    <tr>\n",
       "      <th>1</th>\n",
       "      <td>mario</td>\n",
       "      <td>dow</td>\n",
       "      <td>7</td>\n",
       "      <td>madow@edu.gob</td>\n",
       "    </tr>\n",
       "    <tr>\n",
       "      <th>2</th>\n",
       "      <td>ze</td>\n",
       "      <td>pequeño</td>\n",
       "      <td>39</td>\n",
       "      <td>zepe@mv.br</td>\n",
       "    </tr>\n",
       "    <tr>\n",
       "      <th>3</th>\n",
       "      <td>carol</td>\n",
       "      <td>doe</td>\n",
       "      <td>50</td>\n",
       "      <td>zisu@france.fr</td>\n",
       "    </tr>\n",
       "  </tbody>\n",
       "</table>\n",
       "</div>"
      ],
      "text/plain": [
       "   Nombre      Apl  Edad          Correo\n",
       "0  xavier     zisu    29   xazi@root.net\n",
       "1   mario      dow     7   madow@edu.gob\n",
       "2      ze  pequeño    39      zepe@mv.br\n",
       "3   carol      doe    50  zisu@france.fr"
      ]
     },
     "execution_count": 24,
     "metadata": {},
     "output_type": "execute_result"
    }
   ],
   "source": [
    "df"
   ]
  }
 ],
 "metadata": {
  "kernelspec": {
   "display_name": "Python 3 (ipykernel)",
   "language": "python",
   "name": "python3"
  },
  "language_info": {
   "codemirror_mode": {
    "name": "ipython",
    "version": 3
   },
   "file_extension": ".py",
   "mimetype": "text/x-python",
   "name": "python",
   "nbconvert_exporter": "python",
   "pygments_lexer": "ipython3",
   "version": "3.8.10"
  }
 },
 "nbformat": 4,
 "nbformat_minor": 4
}
